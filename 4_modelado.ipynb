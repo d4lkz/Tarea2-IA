{
 "cells": [
  {
   "cell_type": "code",
   "execution_count": 1,
   "id": "86ce86e7-1810-4c9f-8e50-f05cc1ae9507",
   "metadata": {},
   "outputs": [],
   "source": [
    "%matplotlib inline\n",
    "import pandas as pd"
   ]
  },
  {
   "cell_type": "code",
   "execution_count": 3,
   "id": "32351bc2-bc8a-44d5-a1ed-0e6f9129f1c4",
   "metadata": {},
   "outputs": [],
   "source": [
    "compras_df = pd.read_csv('tdata/clean_compras.csv')"
   ]
  },
  {
   "cell_type": "code",
   "execution_count": 4,
   "id": "f0d58025-d853-49ff-a1b7-932fc4a3a111",
   "metadata": {},
   "outputs": [],
   "source": [
    "data=compras_df.copy()"
   ]
  },
  {
   "cell_type": "markdown",
   "id": "00933317-0e61-4979-9a9b-af3240877256",
   "metadata": {},
   "source": [
    "## Llenar los valores faltantes del dataframe"
   ]
  },
  {
   "cell_type": "code",
   "execution_count": 5,
   "id": "38716e75-b784-4384-8ee0-574cb4266035",
   "metadata": {},
   "outputs": [],
   "source": [
    "#utiliza el for con un indice para en una lista almacenar el tipo de dato en cadena\n",
    "for i, column in enumerate(list([str(d) for d in data.dtypes])):\n",
    "    #si el tipo de dato es object\n",
    "    if column == \"object\":\n",
    "        data[data.columns[i]] = data[data.columns[i]].fillna(data[data.columns[i]].mode())\n",
    "        data[data.columns[i]] = data[data.columns[i]].astype(\"category\").cat.codes\n",
    "    else:\n",
    "        data[data.columns[i]] = data[data.columns[i]].fillna(data[data.columns[i]].median())"
   ]
  },
  {
   "cell_type": "code",
   "execution_count": 6,
   "id": "8d1af14a-d160-481b-b11d-79f25530900d",
   "metadata": {},
   "outputs": [
    {
     "data": {
      "text/html": [
       "<div>\n",
       "<style scoped>\n",
       "    .dataframe tbody tr th:only-of-type {\n",
       "        vertical-align: middle;\n",
       "    }\n",
       "\n",
       "    .dataframe tbody tr th {\n",
       "        vertical-align: top;\n",
       "    }\n",
       "\n",
       "    .dataframe thead th {\n",
       "        text-align: right;\n",
       "    }\n",
       "</style>\n",
       "<table border=\"1\" class=\"dataframe\">\n",
       "  <thead>\n",
       "    <tr style=\"text-align: right;\">\n",
       "      <th></th>\n",
       "      <th>C B</th>\n",
       "      <th>BENEFICIARIO</th>\n",
       "      <th>RFC</th>\n",
       "      <th>FACTURAS</th>\n",
       "      <th>CONTRATO</th>\n",
       "      <th>CONCEPTO</th>\n",
       "      <th>TIPO</th>\n",
       "      <th>FDO - #OP</th>\n",
       "      <th>FECHA</th>\n",
       "      <th>IMPORTE</th>\n",
       "      <th>SHEET</th>\n",
       "    </tr>\n",
       "  </thead>\n",
       "  <tbody>\n",
       "    <tr>\n",
       "      <th>0</th>\n",
       "      <td>123803</td>\n",
       "      <td>373</td>\n",
       "      <td>385</td>\n",
       "      <td>16851</td>\n",
       "      <td>5184</td>\n",
       "      <td>13840</td>\n",
       "      <td>1</td>\n",
       "      <td>1025275.0</td>\n",
       "      <td>0</td>\n",
       "      <td>389093.21</td>\n",
       "      <td>7</td>\n",
       "    </tr>\n",
       "    <tr>\n",
       "      <th>1</th>\n",
       "      <td>206273</td>\n",
       "      <td>2055</td>\n",
       "      <td>1924</td>\n",
       "      <td>979</td>\n",
       "      <td>26</td>\n",
       "      <td>7992</td>\n",
       "      <td>1</td>\n",
       "      <td>1025278.0</td>\n",
       "      <td>0</td>\n",
       "      <td>6564.00</td>\n",
       "      <td>7</td>\n",
       "    </tr>\n",
       "    <tr>\n",
       "      <th>2</th>\n",
       "      <td>206273</td>\n",
       "      <td>2055</td>\n",
       "      <td>1924</td>\n",
       "      <td>980</td>\n",
       "      <td>26</td>\n",
       "      <td>7993</td>\n",
       "      <td>1</td>\n",
       "      <td>1025279.0</td>\n",
       "      <td>0</td>\n",
       "      <td>6418.00</td>\n",
       "      <td>7</td>\n",
       "    </tr>\n",
       "    <tr>\n",
       "      <th>3</th>\n",
       "      <td>206273</td>\n",
       "      <td>2055</td>\n",
       "      <td>1924</td>\n",
       "      <td>1576</td>\n",
       "      <td>26</td>\n",
       "      <td>10456</td>\n",
       "      <td>1</td>\n",
       "      <td>332000144.0</td>\n",
       "      <td>0</td>\n",
       "      <td>110220.65</td>\n",
       "      <td>7</td>\n",
       "    </tr>\n",
       "    <tr>\n",
       "      <th>4</th>\n",
       "      <td>206273</td>\n",
       "      <td>2055</td>\n",
       "      <td>1924</td>\n",
       "      <td>1578</td>\n",
       "      <td>26</td>\n",
       "      <td>10453</td>\n",
       "      <td>1</td>\n",
       "      <td>332000145.0</td>\n",
       "      <td>0</td>\n",
       "      <td>400123.00</td>\n",
       "      <td>7</td>\n",
       "    </tr>\n",
       "  </tbody>\n",
       "</table>\n",
       "</div>"
      ],
      "text/plain": [
       "      C B  BENEFICIARIO   RFC  FACTURAS  CONTRATO  CONCEPTO  TIPO  \\\n",
       "0  123803           373   385     16851      5184     13840     1   \n",
       "1  206273          2055  1924       979        26      7992     1   \n",
       "2  206273          2055  1924       980        26      7993     1   \n",
       "3  206273          2055  1924      1576        26     10456     1   \n",
       "4  206273          2055  1924      1578        26     10453     1   \n",
       "\n",
       "     FDO - #OP  FECHA    IMPORTE  SHEET  \n",
       "0    1025275.0      0  389093.21      7  \n",
       "1    1025278.0      0    6564.00      7  \n",
       "2    1025279.0      0    6418.00      7  \n",
       "3  332000144.0      0  110220.65      7  \n",
       "4  332000145.0      0  400123.00      7  "
      ]
     },
     "execution_count": 6,
     "metadata": {},
     "output_type": "execute_result"
    }
   ],
   "source": [
    "data.head(5)"
   ]
  },
  {
   "cell_type": "markdown",
   "id": "17f65ec1-9112-4d29-9aa1-c9d7bd9569e1",
   "metadata": {},
   "source": [
    "## utilizar random forest"
   ]
  },
  {
   "cell_type": "code",
   "execution_count": 7,
   "id": "8d3729e2-a99d-4341-8e3e-b3f0448a6dff",
   "metadata": {},
   "outputs": [],
   "source": [
    "from sklearn.ensemble import RandomForestRegressor"
   ]
  },
  {
   "cell_type": "code",
   "execution_count": 8,
   "id": "bd5614b8-6b3a-44c3-9b09-850f99548157",
   "metadata": {},
   "outputs": [],
   "source": [
    "from sklearn.model_selection import train_test_split"
   ]
  },
  {
   "cell_type": "code",
   "execution_count": 9,
   "id": "6d509ca1-aacf-4de5-9eea-17e583d4a95a",
   "metadata": {},
   "outputs": [],
   "source": [
    "y = data.pop('IMPORTE')\n",
    "X = data.copy()"
   ]
  },
  {
   "cell_type": "markdown",
   "id": "128f4a2e-8566-4a3c-991d-5e7a77e1d539",
   "metadata": {},
   "source": [
    "## Dividir los datos en dos grupos"
   ]
  },
  {
   "cell_type": "code",
   "execution_count": 10,
   "id": "dfcaf916-10d9-43f5-b0cb-c4cbfad320f9",
   "metadata": {},
   "outputs": [],
   "source": [
    "X_train, X_test, y_train, y_test = train_test_split(X, y, test_size=0.33, random_state=42)"
   ]
  },
  {
   "cell_type": "code",
   "execution_count": 12,
   "id": "fe71d3b4-d3eb-4a3b-a51f-8055dedc155a",
   "metadata": {},
   "outputs": [],
   "source": [
    "clf = RandomForestRegressor(n_estimators=1000, max_depth = 4)"
   ]
  },
  {
   "cell_type": "code",
   "execution_count": 13,
   "id": "0f59d821-b1b4-459a-8a81-57c20671a918",
   "metadata": {},
   "outputs": [
    {
     "data": {
      "text/html": [
       "<style>#sk-container-id-1 {color: black;background-color: white;}#sk-container-id-1 pre{padding: 0;}#sk-container-id-1 div.sk-toggleable {background-color: white;}#sk-container-id-1 label.sk-toggleable__label {cursor: pointer;display: block;width: 100%;margin-bottom: 0;padding: 0.3em;box-sizing: border-box;text-align: center;}#sk-container-id-1 label.sk-toggleable__label-arrow:before {content: \"▸\";float: left;margin-right: 0.25em;color: #696969;}#sk-container-id-1 label.sk-toggleable__label-arrow:hover:before {color: black;}#sk-container-id-1 div.sk-estimator:hover label.sk-toggleable__label-arrow:before {color: black;}#sk-container-id-1 div.sk-toggleable__content {max-height: 0;max-width: 0;overflow: hidden;text-align: left;background-color: #f0f8ff;}#sk-container-id-1 div.sk-toggleable__content pre {margin: 0.2em;color: black;border-radius: 0.25em;background-color: #f0f8ff;}#sk-container-id-1 input.sk-toggleable__control:checked~div.sk-toggleable__content {max-height: 200px;max-width: 100%;overflow: auto;}#sk-container-id-1 input.sk-toggleable__control:checked~label.sk-toggleable__label-arrow:before {content: \"▾\";}#sk-container-id-1 div.sk-estimator input.sk-toggleable__control:checked~label.sk-toggleable__label {background-color: #d4ebff;}#sk-container-id-1 div.sk-label input.sk-toggleable__control:checked~label.sk-toggleable__label {background-color: #d4ebff;}#sk-container-id-1 input.sk-hidden--visually {border: 0;clip: rect(1px 1px 1px 1px);clip: rect(1px, 1px, 1px, 1px);height: 1px;margin: -1px;overflow: hidden;padding: 0;position: absolute;width: 1px;}#sk-container-id-1 div.sk-estimator {font-family: monospace;background-color: #f0f8ff;border: 1px dotted black;border-radius: 0.25em;box-sizing: border-box;margin-bottom: 0.5em;}#sk-container-id-1 div.sk-estimator:hover {background-color: #d4ebff;}#sk-container-id-1 div.sk-parallel-item::after {content: \"\";width: 100%;border-bottom: 1px solid gray;flex-grow: 1;}#sk-container-id-1 div.sk-label:hover label.sk-toggleable__label {background-color: #d4ebff;}#sk-container-id-1 div.sk-serial::before {content: \"\";position: absolute;border-left: 1px solid gray;box-sizing: border-box;top: 0;bottom: 0;left: 50%;z-index: 0;}#sk-container-id-1 div.sk-serial {display: flex;flex-direction: column;align-items: center;background-color: white;padding-right: 0.2em;padding-left: 0.2em;position: relative;}#sk-container-id-1 div.sk-item {position: relative;z-index: 1;}#sk-container-id-1 div.sk-parallel {display: flex;align-items: stretch;justify-content: center;background-color: white;position: relative;}#sk-container-id-1 div.sk-item::before, #sk-container-id-1 div.sk-parallel-item::before {content: \"\";position: absolute;border-left: 1px solid gray;box-sizing: border-box;top: 0;bottom: 0;left: 50%;z-index: -1;}#sk-container-id-1 div.sk-parallel-item {display: flex;flex-direction: column;z-index: 1;position: relative;background-color: white;}#sk-container-id-1 div.sk-parallel-item:first-child::after {align-self: flex-end;width: 50%;}#sk-container-id-1 div.sk-parallel-item:last-child::after {align-self: flex-start;width: 50%;}#sk-container-id-1 div.sk-parallel-item:only-child::after {width: 0;}#sk-container-id-1 div.sk-dashed-wrapped {border: 1px dashed gray;margin: 0 0.4em 0.5em 0.4em;box-sizing: border-box;padding-bottom: 0.4em;background-color: white;}#sk-container-id-1 div.sk-label label {font-family: monospace;font-weight: bold;display: inline-block;line-height: 1.2em;}#sk-container-id-1 div.sk-label-container {text-align: center;}#sk-container-id-1 div.sk-container {/* jupyter's `normalize.less` sets `[hidden] { display: none; }` but bootstrap.min.css set `[hidden] { display: none !important; }` so we also need the `!important` here to be able to override the default hidden behavior on the sphinx rendered scikit-learn.org. See: https://github.com/scikit-learn/scikit-learn/issues/21755 */display: inline-block !important;position: relative;}#sk-container-id-1 div.sk-text-repr-fallback {display: none;}</style><div id=\"sk-container-id-1\" class=\"sk-top-container\"><div class=\"sk-text-repr-fallback\"><pre>RandomForestRegressor(max_depth=4, n_estimators=1000)</pre><b>In a Jupyter environment, please rerun this cell to show the HTML representation or trust the notebook. <br />On GitHub, the HTML representation is unable to render, please try loading this page with nbviewer.org.</b></div><div class=\"sk-container\" hidden><div class=\"sk-item\"><div class=\"sk-estimator sk-toggleable\"><input class=\"sk-toggleable__control sk-hidden--visually\" id=\"sk-estimator-id-1\" type=\"checkbox\" checked><label for=\"sk-estimator-id-1\" class=\"sk-toggleable__label sk-toggleable__label-arrow\">RandomForestRegressor</label><div class=\"sk-toggleable__content\"><pre>RandomForestRegressor(max_depth=4, n_estimators=1000)</pre></div></div></div></div></div>"
      ],
      "text/plain": [
       "RandomForestRegressor(max_depth=4, n_estimators=1000)"
      ]
     },
     "execution_count": 13,
     "metadata": {},
     "output_type": "execute_result"
    }
   ],
   "source": [
    "clf.fit(X_train,y_train)"
   ]
  },
  {
   "cell_type": "code",
   "execution_count": 14,
   "id": "3bf73393-6c69-40ec-9187-a61dee4634c0",
   "metadata": {},
   "outputs": [],
   "source": [
    "from sklearn.metrics import r2_score"
   ]
  },
  {
   "cell_type": "code",
   "execution_count": 15,
   "id": "cb3cc4cd-fefe-40a6-9fd5-b8cd488c2ca0",
   "metadata": {},
   "outputs": [
    {
     "data": {
      "text/plain": [
       "0.05958342240139336"
      ]
     },
     "execution_count": 15,
     "metadata": {},
     "output_type": "execute_result"
    }
   ],
   "source": [
    "r2_score(y_test, clf.predict(X_test))"
   ]
  },
  {
   "cell_type": "markdown",
   "id": "d709adc3-efc9-4636-9eee-c807a597a562",
   "metadata": {},
   "source": [
    "## modelo no supervisado"
   ]
  }
 ],
 "metadata": {
  "kernelspec": {
   "display_name": "Python 3 (ipykernel)",
   "language": "python",
   "name": "python3"
  },
  "language_info": {
   "codemirror_mode": {
    "name": "ipython",
    "version": 3
   },
   "file_extension": ".py",
   "mimetype": "text/x-python",
   "name": "python",
   "nbconvert_exporter": "python",
   "pygments_lexer": "ipython3",
   "version": "3.11.7"
  }
 },
 "nbformat": 4,
 "nbformat_minor": 5
}
