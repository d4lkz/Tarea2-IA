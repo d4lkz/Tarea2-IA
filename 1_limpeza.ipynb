{
 "cells": [
  {
   "cell_type": "code",
   "execution_count": 6,
   "id": "435037e4-727c-487a-8951-04313eff2ff8",
   "metadata": {},
   "outputs": [],
   "source": [
    "# importat la libreria de pandas\n",
    "import pandas as pd"
   ]
  },
  {
   "cell_type": "code",
   "execution_count": 10,
   "id": "52f567cc-8fdb-49e9-8249-b4956c5211ae",
   "metadata": {},
   "outputs": [],
   "source": [
    "#importar la libreria del sistema operativo\n",
    "import os"
   ]
  },
  {
   "cell_type": "code",
   "execution_count": 80,
   "id": "ddd9e798-7fa2-43b4-b73e-e3e0c253fa43",
   "metadata": {},
   "outputs": [
    {
     "name": "stdout",
     "output_type": "stream",
     "text": [
      "DICIEMBRE_2023_VP.xlsx\n",
      "notebook\n"
     ]
    }
   ],
   "source": [
    "!ls"
   ]
  },
  {
   "cell_type": "code",
   "execution_count": 38,
   "id": "23908add-5bd2-4b72-bc1f-307ad28da06b",
   "metadata": {},
   "outputs": [],
   "source": [
    "os.chdir('jupyter_runtime/ProyectoData')"
   ]
  },
  {
   "cell_type": "code",
   "execution_count": 42,
   "id": "df4a1972-0c06-4f9f-8aba-076ce4f8cda9",
   "metadata": {},
   "outputs": [],
   "source": [
    "df_contratistas=pd.read_excel('DICIEMBRE_2023_VP.xlsx',sheet_name='OBRA PUBLICA Y GV FDOS. ESP', skiprows=5)"
   ]
  },
  {
   "cell_type": "code",
   "execution_count": 48,
   "id": "2ec6c182-1bc5-4b0c-aa33-723e6dfece03",
   "metadata": {},
   "outputs": [
    {
     "data": {
      "text/html": [
       "<div>\n",
       "<style scoped>\n",
       "    .dataframe tbody tr th:only-of-type {\n",
       "        vertical-align: middle;\n",
       "    }\n",
       "\n",
       "    .dataframe tbody tr th {\n",
       "        vertical-align: top;\n",
       "    }\n",
       "\n",
       "    .dataframe thead th {\n",
       "        text-align: right;\n",
       "    }\n",
       "</style>\n",
       "<table border=\"1\" class=\"dataframe\">\n",
       "  <thead>\n",
       "    <tr style=\"text-align: right;\">\n",
       "      <th></th>\n",
       "      <th>C B</th>\n",
       "      <th>BENEFICIARIO</th>\n",
       "      <th>RFC</th>\n",
       "      <th>FACTURAS</th>\n",
       "      <th>CONTRATO</th>\n",
       "      <th>CONCEPTO</th>\n",
       "      <th>TIPO</th>\n",
       "      <th>FDO-#OP</th>\n",
       "      <th>FECHA</th>\n",
       "      <th>IMPORTE</th>\n",
       "      <th>SHEET</th>\n",
       "    </tr>\n",
       "  </thead>\n",
       "  <tbody>\n",
       "    <tr>\n",
       "      <th>0</th>\n",
       "      <td>110036</td>\n",
       "      <td>SEMEX,S.A.DE C.V.</td>\n",
       "      <td>SEM680801193</td>\n",
       "      <td>48990-185004-4523</td>\n",
       "      <td>SIS-408-2023</td>\n",
       "      <td>MOD Y MOV MULT PSV 30% ANT. SIS-RP-90/23-CP SI...</td>\n",
       "      <td>TR</td>\n",
       "      <td>366000022.0</td>\n",
       "      <td>2023-12-14</td>\n",
       "      <td>1844954.84</td>\n",
       "      <td>CONTRATISTAS</td>\n",
       "    </tr>\n",
       "    <tr>\n",
       "      <th>1</th>\n",
       "      <td>110036</td>\n",
       "      <td>SEMEX,S.A.DE C.V.</td>\n",
       "      <td>SEM680801193</td>\n",
       "      <td>48576-185004-3795</td>\n",
       "      <td>SIS-159-2022</td>\n",
       "      <td>DISP-REC-FISC-2022 EST. 1-E SIS-RP-77/22-CP SE...</td>\n",
       "      <td>TR</td>\n",
       "      <td>1028992.0</td>\n",
       "      <td>2023-12-19</td>\n",
       "      <td>983843.50</td>\n",
       "      <td>CONTRATISTAS</td>\n",
       "    </tr>\n",
       "    <tr>\n",
       "      <th>2</th>\n",
       "      <td>110036</td>\n",
       "      <td>SEMEX,S.A.DE C.V.</td>\n",
       "      <td>SEM680801193</td>\n",
       "      <td>48988-185004-4707</td>\n",
       "      <td>SIS-303-2023</td>\n",
       "      <td>PROY-INF-MCIPAL (CORR-VERDES) EST. 1SIS-RP-67/...</td>\n",
       "      <td>TR</td>\n",
       "      <td>363000053.0</td>\n",
       "      <td>2023-12-20</td>\n",
       "      <td>976306.40</td>\n",
       "      <td>CONTRATISTAS</td>\n",
       "    </tr>\n",
       "    <tr>\n",
       "      <th>3</th>\n",
       "      <td>110036</td>\n",
       "      <td>SEMEX,S.A.DE C.V.</td>\n",
       "      <td>SEM680801193</td>\n",
       "      <td>49119-185004-4928</td>\n",
       "      <td>SIS-424-2023</td>\n",
       "      <td>CONV-VIAD-AUT-MTY-SAL 30% (GAZA) SIS-RP-37/23-...</td>\n",
       "      <td>TR</td>\n",
       "      <td>322000033.0</td>\n",
       "      <td>2023-12-27</td>\n",
       "      <td>992296.46</td>\n",
       "      <td>CONTRATISTAS</td>\n",
       "    </tr>\n",
       "    <tr>\n",
       "      <th>4</th>\n",
       "      <td>110036</td>\n",
       "      <td>SEMEX,S.A.DE C.V.</td>\n",
       "      <td>SEM680801193</td>\n",
       "      <td>49133-185004-4929</td>\n",
       "      <td>SIS-424-2023</td>\n",
       "      <td>MOD Y MOV MULT PSV 30% (CHURUBUSCO) SIS-RP-37/...</td>\n",
       "      <td>TR</td>\n",
       "      <td>366000025.0</td>\n",
       "      <td>2023-12-27</td>\n",
       "      <td>153185.51</td>\n",
       "      <td>CONTRATISTAS</td>\n",
       "    </tr>\n",
       "  </tbody>\n",
       "</table>\n",
       "</div>"
      ],
      "text/plain": [
       "      C B       BENEFICIARIO           RFC           FACTURAS      CONTRATO  \\\n",
       "0  110036  SEMEX,S.A.DE C.V.  SEM680801193  48990-185004-4523  SIS-408-2023   \n",
       "1  110036  SEMEX,S.A.DE C.V.  SEM680801193  48576-185004-3795  SIS-159-2022   \n",
       "2  110036  SEMEX,S.A.DE C.V.  SEM680801193  48988-185004-4707  SIS-303-2023   \n",
       "3  110036  SEMEX,S.A.DE C.V.  SEM680801193  49119-185004-4928  SIS-424-2023   \n",
       "4  110036  SEMEX,S.A.DE C.V.  SEM680801193  49133-185004-4929  SIS-424-2023   \n",
       "\n",
       "                                            CONCEPTO TIPO      FDO-#OP  \\\n",
       "0  MOD Y MOV MULT PSV 30% ANT. SIS-RP-90/23-CP SI...   TR  366000022.0   \n",
       "1  DISP-REC-FISC-2022 EST. 1-E SIS-RP-77/22-CP SE...   TR    1028992.0   \n",
       "2  PROY-INF-MCIPAL (CORR-VERDES) EST. 1SIS-RP-67/...   TR  363000053.0   \n",
       "3  CONV-VIAD-AUT-MTY-SAL 30% (GAZA) SIS-RP-37/23-...   TR  322000033.0   \n",
       "4  MOD Y MOV MULT PSV 30% (CHURUBUSCO) SIS-RP-37/...   TR  366000025.0   \n",
       "\n",
       "       FECHA     IMPORTE         SHEET  \n",
       "0 2023-12-14  1844954.84  CONTRATISTAS  \n",
       "1 2023-12-19   983843.50  CONTRATISTAS  \n",
       "2 2023-12-20   976306.40  CONTRATISTAS  \n",
       "3 2023-12-27   992296.46  CONTRATISTAS  \n",
       "4 2023-12-27   153185.51  CONTRATISTAS  "
      ]
     },
     "execution_count": 48,
     "metadata": {},
     "output_type": "execute_result"
    }
   ],
   "source": [
    "df_contratistas.head(5)"
   ]
  },
  {
   "cell_type": "code",
   "execution_count": 46,
   "id": "5b454c0b-3901-4e31-8e81-aea24c29adcc",
   "metadata": {},
   "outputs": [],
   "source": [
    "df_contratistas['SHEET']='CONTRATISTAS'"
   ]
  },
  {
   "cell_type": "code",
   "execution_count": 50,
   "id": "4ccfd421-b955-481d-ab86-111c74f0faf2",
   "metadata": {},
   "outputs": [],
   "source": [
    "df_gastos_varios = pd.read_excel('DICIEMBRE_2023_VP.xlsx', sheet_name='GTOS VARIOS', skiprows=5)\n",
    "df_gastos_varios['SHEET'] = 'GASTOS VARIOS'"
   ]
  },
  {
   "cell_type": "code",
   "execution_count": 52,
   "id": "0b1598f4-bf5e-46f8-9253-d8420152bb4b",
   "metadata": {},
   "outputs": [],
   "source": [
    "df_servicios = pd.read_excel('DICIEMBRE_2023_VP.xlsx', sheet_name='SER PROF', skiprows=5)\n",
    "df_servicios['SHEET'] = 'SERVICIOS'"
   ]
  },
  {
   "cell_type": "code",
   "execution_count": 54,
   "id": "221f00b4-01e1-4288-b11e-4039730f385c",
   "metadata": {},
   "outputs": [],
   "source": [
    "df_comunicacion = pd.read_excel('DICIEMBRE_2023_VP.xlsx', sheet_name='COMUNIC', skiprows=5)\n",
    "df_comunicacion['SHEET'] = 'COMUNICACION'"
   ]
  },
  {
   "cell_type": "code",
   "execution_count": 60,
   "id": "4c7864a6-62cf-459e-900c-74d00347137b",
   "metadata": {},
   "outputs": [],
   "source": [
    "df_personales = pd.read_excel('DICIEMBRE_2023_VP.xlsx', sheet_name='SERV PERS', skiprows=5)\n",
    "df_personales['SHEET'] = 'PERSONALES'"
   ]
  },
  {
   "cell_type": "code",
   "execution_count": 62,
   "id": "9804a4dd-7cf2-4bd6-bf9e-eec512a5f97a",
   "metadata": {},
   "outputs": [],
   "source": [
    "df_compras_dic=pd.concat([df_gastos_varios, df_contratistas, df_servicios, df_comunicacion, df_personales])"
   ]
  },
  {
   "cell_type": "code",
   "execution_count": 64,
   "id": "4d3c7270-612e-4b88-b8ea-5247d8ea8c5b",
   "metadata": {},
   "outputs": [
    {
     "data": {
      "text/html": [
       "<div>\n",
       "<style scoped>\n",
       "    .dataframe tbody tr th:only-of-type {\n",
       "        vertical-align: middle;\n",
       "    }\n",
       "\n",
       "    .dataframe tbody tr th {\n",
       "        vertical-align: top;\n",
       "    }\n",
       "\n",
       "    .dataframe thead th {\n",
       "        text-align: right;\n",
       "    }\n",
       "</style>\n",
       "<table border=\"1\" class=\"dataframe\">\n",
       "  <thead>\n",
       "    <tr style=\"text-align: right;\">\n",
       "      <th></th>\n",
       "      <th>C B</th>\n",
       "      <th>BENEFICIARIO</th>\n",
       "      <th>RFC</th>\n",
       "      <th>FACTURAS</th>\n",
       "      <th>CONTRATO</th>\n",
       "      <th>CONCEPTO</th>\n",
       "      <th>TIPO</th>\n",
       "      <th>FDO-#OP</th>\n",
       "      <th>FECHA</th>\n",
       "      <th>IMPORTE</th>\n",
       "      <th>SHEET</th>\n",
       "    </tr>\n",
       "  </thead>\n",
       "  <tbody>\n",
       "    <tr>\n",
       "      <th>0</th>\n",
       "      <td>110036</td>\n",
       "      <td>SEMEX,S.A.DE C.V.</td>\n",
       "      <td>SEM680801193</td>\n",
       "      <td>48298-183011-4972</td>\n",
       "      <td>SDU-019-2022</td>\n",
       "      <td>ESTIMACION # 18 PARA EL SUMINISTRO Y APLICACIO...</td>\n",
       "      <td>TR</td>\n",
       "      <td>1029007.0</td>\n",
       "      <td>2023-12-19</td>\n",
       "      <td>3914510.69</td>\n",
       "      <td>GASTOS VARIOS</td>\n",
       "    </tr>\n",
       "    <tr>\n",
       "      <th>1</th>\n",
       "      <td>Total 110036</td>\n",
       "      <td>NaN</td>\n",
       "      <td>NaN</td>\n",
       "      <td>NaN</td>\n",
       "      <td>NaN</td>\n",
       "      <td>NaN</td>\n",
       "      <td>NaN</td>\n",
       "      <td>NaN</td>\n",
       "      <td>NaT</td>\n",
       "      <td>3914510.69</td>\n",
       "      <td>GASTOS VARIOS</td>\n",
       "    </tr>\n",
       "    <tr>\n",
       "      <th>2</th>\n",
       "      <td>111017</td>\n",
       "      <td>PRAXAIR MEXICO S. DE R.L. DE C.V.</td>\n",
       "      <td>PME960701GG0</td>\n",
       "      <td>FZ5592100-183011-5005</td>\n",
       "      <td>SFA-057-2022</td>\n",
       "      <td>SUMINISTRO DE OXIGENO, GASES MEDICINALES Y ACC...</td>\n",
       "      <td>TR</td>\n",
       "      <td>1029028.0</td>\n",
       "      <td>2023-12-19</td>\n",
       "      <td>12474.70</td>\n",
       "      <td>GASTOS VARIOS</td>\n",
       "    </tr>\n",
       "    <tr>\n",
       "      <th>3</th>\n",
       "      <td>Total 111017</td>\n",
       "      <td>NaN</td>\n",
       "      <td>NaN</td>\n",
       "      <td>NaN</td>\n",
       "      <td>NaN</td>\n",
       "      <td>NaN</td>\n",
       "      <td>NaN</td>\n",
       "      <td>NaN</td>\n",
       "      <td>NaT</td>\n",
       "      <td>12474.70</td>\n",
       "      <td>GASTOS VARIOS</td>\n",
       "    </tr>\n",
       "    <tr>\n",
       "      <th>4</th>\n",
       "      <td>112917</td>\n",
       "      <td>TELEFONOS DE MEXICO,S.A.B DE C.V.</td>\n",
       "      <td>TME840315KT6</td>\n",
       "      <td>0V03217-011-183011-6490</td>\n",
       "      <td>NO APLICA</td>\n",
       "      <td>SERVICIO TELEFONICO DE LA DELEGACION IMPUESTO ...</td>\n",
       "      <td>TR</td>\n",
       "      <td>1028981.0</td>\n",
       "      <td>2023-12-15</td>\n",
       "      <td>1282.82</td>\n",
       "      <td>GASTOS VARIOS</td>\n",
       "    </tr>\n",
       "  </tbody>\n",
       "</table>\n",
       "</div>"
      ],
      "text/plain": [
       "            C B                       BENEFICIARIO           RFC  \\\n",
       "0        110036                  SEMEX,S.A.DE C.V.  SEM680801193   \n",
       "1  Total 110036                                NaN           NaN   \n",
       "2        111017  PRAXAIR MEXICO S. DE R.L. DE C.V.  PME960701GG0   \n",
       "3  Total 111017                                NaN           NaN   \n",
       "4        112917  TELEFONOS DE MEXICO,S.A.B DE C.V.  TME840315KT6   \n",
       "\n",
       "                  FACTURAS      CONTRATO  \\\n",
       "0        48298-183011-4972  SDU-019-2022   \n",
       "1                      NaN           NaN   \n",
       "2    FZ5592100-183011-5005  SFA-057-2022   \n",
       "3                      NaN           NaN   \n",
       "4  0V03217-011-183011-6490     NO APLICA   \n",
       "\n",
       "                                            CONCEPTO TIPO    FDO-#OP  \\\n",
       "0  ESTIMACION # 18 PARA EL SUMINISTRO Y APLICACIO...   TR  1029007.0   \n",
       "1                                                NaN  NaN        NaN   \n",
       "2  SUMINISTRO DE OXIGENO, GASES MEDICINALES Y ACC...   TR  1029028.0   \n",
       "3                                                NaN  NaN        NaN   \n",
       "4  SERVICIO TELEFONICO DE LA DELEGACION IMPUESTO ...   TR  1028981.0   \n",
       "\n",
       "       FECHA     IMPORTE          SHEET  \n",
       "0 2023-12-19  3914510.69  GASTOS VARIOS  \n",
       "1        NaT  3914510.69  GASTOS VARIOS  \n",
       "2 2023-12-19    12474.70  GASTOS VARIOS  \n",
       "3        NaT    12474.70  GASTOS VARIOS  \n",
       "4 2023-12-15     1282.82  GASTOS VARIOS  "
      ]
     },
     "execution_count": 64,
     "metadata": {},
     "output_type": "execute_result"
    }
   ],
   "source": [
    "df_compras_dic.head(5)"
   ]
  },
  {
   "cell_type": "code",
   "execution_count": 66,
   "id": "1bcfa69e-b0e5-4e91-92fe-57a500d4003b",
   "metadata": {},
   "outputs": [
    {
     "data": {
      "text/plain": [
       "3128"
      ]
     },
     "execution_count": 66,
     "metadata": {},
     "output_type": "execute_result"
    }
   ],
   "source": [
    "len(df_compras_dic)"
   ]
  },
  {
   "cell_type": "code",
   "execution_count": 68,
   "id": "932ac3b4-c699-47e5-bba0-97cd3de14caf",
   "metadata": {},
   "outputs": [],
   "source": [
    "df_compras_dic_com=df_compras_dic.dropna(how='any')"
   ]
  },
  {
   "cell_type": "code",
   "execution_count": 70,
   "id": "168ed735-9f02-44d0-a095-5f9a1f0a9c25",
   "metadata": {},
   "outputs": [
    {
     "data": {
      "text/plain": [
       "2662"
      ]
     },
     "execution_count": 70,
     "metadata": {},
     "output_type": "execute_result"
    }
   ],
   "source": [
    "len(df_compras_dic_com)"
   ]
  },
  {
   "cell_type": "code",
   "execution_count": 72,
   "id": "a8d735b7-2343-4cfb-911c-e8dcd843c799",
   "metadata": {},
   "outputs": [
    {
     "data": {
      "text/plain": [
       "C B                     object\n",
       "BENEFICIARIO            object\n",
       "RFC                     object\n",
       "FACTURAS                object\n",
       "CONTRATO                object\n",
       "CONCEPTO                object\n",
       "TIPO                    object\n",
       "FDO-#OP                float64\n",
       "FECHA           datetime64[ns]\n",
       "IMPORTE                float64\n",
       "SHEET                   object\n",
       "dtype: object"
      ]
     },
     "execution_count": 72,
     "metadata": {},
     "output_type": "execute_result"
    }
   ],
   "source": [
    "df_compras_dic_com.dtypes"
   ]
  },
  {
   "cell_type": "code",
   "execution_count": 76,
   "id": "10be14c2-1b31-4a05-84c7-e403b9e73cbe",
   "metadata": {},
   "outputs": [
    {
     "data": {
      "text/plain": [
       "FECHA\n",
       "12    2662\n",
       "Name: count, dtype: int64"
      ]
     },
     "execution_count": 76,
     "metadata": {},
     "output_type": "execute_result"
    }
   ],
   "source": [
    "df_compras_dic_com['FECHA'].apply(lambda x: x.month).value_counts()"
   ]
  },
  {
   "cell_type": "code",
   "execution_count": 78,
   "id": "f7f8648d-9df9-40b8-8fd8-1aa1e6436d84",
   "metadata": {},
   "outputs": [
    {
     "data": {
      "text/html": [
       "<div>\n",
       "<style scoped>\n",
       "    .dataframe tbody tr th:only-of-type {\n",
       "        vertical-align: middle;\n",
       "    }\n",
       "\n",
       "    .dataframe tbody tr th {\n",
       "        vertical-align: top;\n",
       "    }\n",
       "\n",
       "    .dataframe thead th {\n",
       "        text-align: right;\n",
       "    }\n",
       "</style>\n",
       "<table border=\"1\" class=\"dataframe\">\n",
       "  <thead>\n",
       "    <tr style=\"text-align: right;\">\n",
       "      <th></th>\n",
       "      <th>C B</th>\n",
       "      <th>BENEFICIARIO</th>\n",
       "      <th>RFC</th>\n",
       "      <th>FACTURAS</th>\n",
       "      <th>CONTRATO</th>\n",
       "      <th>CONCEPTO</th>\n",
       "      <th>TIPO</th>\n",
       "      <th>FDO-#OP</th>\n",
       "      <th>FECHA</th>\n",
       "      <th>IMPORTE</th>\n",
       "      <th>SHEET</th>\n",
       "    </tr>\n",
       "  </thead>\n",
       "  <tbody>\n",
       "    <tr>\n",
       "      <th>0</th>\n",
       "      <td>110036</td>\n",
       "      <td>SEMEX,S.A.DE C.V.</td>\n",
       "      <td>SEM680801193</td>\n",
       "      <td>48298-183011-4972</td>\n",
       "      <td>SDU-019-2022</td>\n",
       "      <td>ESTIMACION # 18 PARA EL SUMINISTRO Y APLICACIO...</td>\n",
       "      <td>TR</td>\n",
       "      <td>1029007.0</td>\n",
       "      <td>2023-12-19</td>\n",
       "      <td>3914510.69</td>\n",
       "      <td>GASTOS VARIOS</td>\n",
       "    </tr>\n",
       "    <tr>\n",
       "      <th>2</th>\n",
       "      <td>111017</td>\n",
       "      <td>PRAXAIR MEXICO S. DE R.L. DE C.V.</td>\n",
       "      <td>PME960701GG0</td>\n",
       "      <td>FZ5592100-183011-5005</td>\n",
       "      <td>SFA-057-2022</td>\n",
       "      <td>SUMINISTRO DE OXIGENO, GASES MEDICINALES Y ACC...</td>\n",
       "      <td>TR</td>\n",
       "      <td>1029028.0</td>\n",
       "      <td>2023-12-19</td>\n",
       "      <td>12474.70</td>\n",
       "      <td>GASTOS VARIOS</td>\n",
       "    </tr>\n",
       "    <tr>\n",
       "      <th>4</th>\n",
       "      <td>112917</td>\n",
       "      <td>TELEFONOS DE MEXICO,S.A.B DE C.V.</td>\n",
       "      <td>TME840315KT6</td>\n",
       "      <td>0V03217-011-183011-6490</td>\n",
       "      <td>NO APLICA</td>\n",
       "      <td>SERVICIO TELEFONICO DE LA DELEGACION IMPUESTO ...</td>\n",
       "      <td>TR</td>\n",
       "      <td>1028981.0</td>\n",
       "      <td>2023-12-15</td>\n",
       "      <td>1282.82</td>\n",
       "      <td>GASTOS VARIOS</td>\n",
       "    </tr>\n",
       "  </tbody>\n",
       "</table>\n",
       "</div>"
      ],
      "text/plain": [
       "      C B                       BENEFICIARIO           RFC  \\\n",
       "0  110036                  SEMEX,S.A.DE C.V.  SEM680801193   \n",
       "2  111017  PRAXAIR MEXICO S. DE R.L. DE C.V.  PME960701GG0   \n",
       "4  112917  TELEFONOS DE MEXICO,S.A.B DE C.V.  TME840315KT6   \n",
       "\n",
       "                  FACTURAS      CONTRATO  \\\n",
       "0        48298-183011-4972  SDU-019-2022   \n",
       "2    FZ5592100-183011-5005  SFA-057-2022   \n",
       "4  0V03217-011-183011-6490     NO APLICA   \n",
       "\n",
       "                                            CONCEPTO TIPO    FDO-#OP  \\\n",
       "0  ESTIMACION # 18 PARA EL SUMINISTRO Y APLICACIO...   TR  1029007.0   \n",
       "2  SUMINISTRO DE OXIGENO, GASES MEDICINALES Y ACC...   TR  1029028.0   \n",
       "4  SERVICIO TELEFONICO DE LA DELEGACION IMPUESTO ...   TR  1028981.0   \n",
       "\n",
       "       FECHA     IMPORTE          SHEET  \n",
       "0 2023-12-19  3914510.69  GASTOS VARIOS  \n",
       "2 2023-12-19    12474.70  GASTOS VARIOS  \n",
       "4 2023-12-15     1282.82  GASTOS VARIOS  "
      ]
     },
     "execution_count": 78,
     "metadata": {},
     "output_type": "execute_result"
    }
   ],
   "source": [
    "df_compras_dic_com.head(3)"
   ]
  },
  {
   "cell_type": "code",
   "execution_count": 82,
   "id": "ba10ef72-a1b5-46a3-b5db-04d7f015f005",
   "metadata": {},
   "outputs": [],
   "source": [
    "df_compras_dic_com.to_csv('notebook/data/clean_compras.csv', index=None)"
   ]
  },
  {
   "cell_type": "code",
   "execution_count": null,
   "id": "1a37a656-faea-4b32-9b88-574b9f42b842",
   "metadata": {},
   "outputs": [],
   "source": []
  }
 ],
 "metadata": {
  "kernelspec": {
   "display_name": "Python 3 (ipykernel)",
   "language": "python",
   "name": "python3"
  },
  "language_info": {
   "codemirror_mode": {
    "name": "ipython",
    "version": 3
   },
   "file_extension": ".py",
   "mimetype": "text/x-python",
   "name": "python",
   "nbconvert_exporter": "python",
   "pygments_lexer": "ipython3",
   "version": "3.12.4"
  }
 },
 "nbformat": 4,
 "nbformat_minor": 5
}
