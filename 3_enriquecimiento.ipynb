{
 "cells": [
  {
   "cell_type": "code",
   "execution_count": 1,
   "id": "faa653a7-30a1-4ef3-87f0-17c407b02394",
   "metadata": {},
   "outputs": [],
   "source": [
    "%matplotlib inline\n",
    "import pandas as pd"
   ]
  },
  {
   "cell_type": "code",
   "execution_count": 7,
   "id": "c5c2e06f-370e-4ee2-8013-32c8ed4ba7fd",
   "metadata": {},
   "outputs": [],
   "source": [
    "compras_df = pd.read_csv('data/clean_compras.csv')\n"
   ]
  },
  {
   "cell_type": "code",
   "execution_count": 9,
   "id": "910d95a4-d7f2-4f6e-8c95-d0ea87f8e028",
   "metadata": {},
   "outputs": [
    {
     "name": "stdout",
     "output_type": "stream",
     "text": [
      "1_limpeza.ipynb\n",
      "2_analisi.ipynb\n",
      "3_enriquecimiento.ipynb\n",
      "data\n"
     ]
    }
   ],
   "source": [
    "!ls"
   ]
  },
  {
   "cell_type": "code",
   "execution_count": 50,
   "id": "f60e729d-77d8-48d5-b7bb-67eb218f834f",
   "metadata": {},
   "outputs": [
    {
     "data": {
      "text/html": [
       "<div>\n",
       "<style scoped>\n",
       "    .dataframe tbody tr th:only-of-type {\n",
       "        vertical-align: middle;\n",
       "    }\n",
       "\n",
       "    .dataframe tbody tr th {\n",
       "        vertical-align: top;\n",
       "    }\n",
       "\n",
       "    .dataframe thead th {\n",
       "        text-align: right;\n",
       "    }\n",
       "</style>\n",
       "<table border=\"1\" class=\"dataframe\">\n",
       "  <thead>\n",
       "    <tr style=\"text-align: right;\">\n",
       "      <th></th>\n",
       "      <th>C B</th>\n",
       "      <th>BENEFICIARIO</th>\n",
       "      <th>RFC</th>\n",
       "      <th>FACTURAS</th>\n",
       "      <th>CONTRATO</th>\n",
       "      <th>CONCEPTO</th>\n",
       "      <th>TIPO</th>\n",
       "      <th>FDO-#OP</th>\n",
       "      <th>FECHA</th>\n",
       "      <th>IMPORTE</th>\n",
       "      <th>SHEET</th>\n",
       "      <th>DIA</th>\n",
       "      <th>MES</th>\n",
       "      <th>ANIO</th>\n",
       "      <th>BENEFICIARIO_SALES</th>\n",
       "    </tr>\n",
       "  </thead>\n",
       "  <tbody>\n",
       "    <tr>\n",
       "      <th>0</th>\n",
       "      <td>110036</td>\n",
       "      <td>SEMEX,S.A.DE C.V.</td>\n",
       "      <td>SEM680801193</td>\n",
       "      <td>48298-183011-4972</td>\n",
       "      <td>SDU-019-2022</td>\n",
       "      <td>ESTIMACION # 18 PARA EL SUMINISTRO Y APLICACIO...</td>\n",
       "      <td>TR</td>\n",
       "      <td>1029007.0</td>\n",
       "      <td>2023-12-19</td>\n",
       "      <td>3914510.69</td>\n",
       "      <td>GASTOS VARIOS</td>\n",
       "      <td>19</td>\n",
       "      <td>12</td>\n",
       "      <td>2023</td>\n",
       "      <td>7</td>\n",
       "    </tr>\n",
       "    <tr>\n",
       "      <th>1</th>\n",
       "      <td>111017</td>\n",
       "      <td>PRAXAIR MEXICO S. DE R.L. DE C.V.</td>\n",
       "      <td>PME960701GG0</td>\n",
       "      <td>FZ5592100-183011-5005</td>\n",
       "      <td>SFA-057-2022</td>\n",
       "      <td>SUMINISTRO DE OXIGENO, GASES MEDICINALES Y ACC...</td>\n",
       "      <td>TR</td>\n",
       "      <td>1029028.0</td>\n",
       "      <td>2023-12-19</td>\n",
       "      <td>12474.70</td>\n",
       "      <td>GASTOS VARIOS</td>\n",
       "      <td>19</td>\n",
       "      <td>12</td>\n",
       "      <td>2023</td>\n",
       "      <td>1</td>\n",
       "    </tr>\n",
       "    <tr>\n",
       "      <th>2</th>\n",
       "      <td>112917</td>\n",
       "      <td>TELEFONOS DE MEXICO,S.A.B DE C.V.</td>\n",
       "      <td>TME840315KT6</td>\n",
       "      <td>0V03217-011-183011-6490</td>\n",
       "      <td>NO APLICA</td>\n",
       "      <td>SERVICIO TELEFONICO DE LA DELEGACION IMPUESTO ...</td>\n",
       "      <td>TR</td>\n",
       "      <td>1028981.0</td>\n",
       "      <td>2023-12-15</td>\n",
       "      <td>1282.82</td>\n",
       "      <td>GASTOS VARIOS</td>\n",
       "      <td>15</td>\n",
       "      <td>12</td>\n",
       "      <td>2023</td>\n",
       "      <td>2</td>\n",
       "    </tr>\n",
       "    <tr>\n",
       "      <th>3</th>\n",
       "      <td>112917</td>\n",
       "      <td>TELEFONOS DE MEXICO,S.A.B DE C.V.</td>\n",
       "      <td>TME840315KT6</td>\n",
       "      <td>0F03598-11-183011-6491</td>\n",
       "      <td>NO APLICA</td>\n",
       "      <td>SERVICIO TELEFONICO DEL DIF. CANOAS Y SEGURIDA...</td>\n",
       "      <td>TR</td>\n",
       "      <td>1029062.0</td>\n",
       "      <td>2023-12-21</td>\n",
       "      <td>2723.97</td>\n",
       "      <td>GASTOS VARIOS</td>\n",
       "      <td>21</td>\n",
       "      <td>12</td>\n",
       "      <td>2023</td>\n",
       "      <td>2</td>\n",
       "    </tr>\n",
       "  </tbody>\n",
       "</table>\n",
       "</div>"
      ],
      "text/plain": [
       "      C B                       BENEFICIARIO           RFC  \\\n",
       "0  110036                  SEMEX,S.A.DE C.V.  SEM680801193   \n",
       "1  111017  PRAXAIR MEXICO S. DE R.L. DE C.V.  PME960701GG0   \n",
       "2  112917  TELEFONOS DE MEXICO,S.A.B DE C.V.  TME840315KT6   \n",
       "3  112917  TELEFONOS DE MEXICO,S.A.B DE C.V.  TME840315KT6   \n",
       "\n",
       "                  FACTURAS      CONTRATO  \\\n",
       "0        48298-183011-4972  SDU-019-2022   \n",
       "1    FZ5592100-183011-5005  SFA-057-2022   \n",
       "2  0V03217-011-183011-6490     NO APLICA   \n",
       "3   0F03598-11-183011-6491     NO APLICA   \n",
       "\n",
       "                                            CONCEPTO TIPO    FDO-#OP  \\\n",
       "0  ESTIMACION # 18 PARA EL SUMINISTRO Y APLICACIO...   TR  1029007.0   \n",
       "1  SUMINISTRO DE OXIGENO, GASES MEDICINALES Y ACC...   TR  1029028.0   \n",
       "2  SERVICIO TELEFONICO DE LA DELEGACION IMPUESTO ...   TR  1028981.0   \n",
       "3  SERVICIO TELEFONICO DEL DIF. CANOAS Y SEGURIDA...   TR  1029062.0   \n",
       "\n",
       "       FECHA     IMPORTE          SHEET  DIA  MES  ANIO  BENEFICIARIO_SALES  \n",
       "0 2023-12-19  3914510.69  GASTOS VARIOS   19   12  2023                   7  \n",
       "1 2023-12-19    12474.70  GASTOS VARIOS   19   12  2023                   1  \n",
       "2 2023-12-15     1282.82  GASTOS VARIOS   15   12  2023                   2  \n",
       "3 2023-12-21     2723.97  GASTOS VARIOS   21   12  2023                   2  "
      ]
     },
     "execution_count": 50,
     "metadata": {},
     "output_type": "execute_result"
    }
   ],
   "source": [
    "compras_df.head(4)"
   ]
  },
  {
   "cell_type": "code",
   "execution_count": 21,
   "id": "de23d566-d395-4ce0-8787-1b03b63ae4db",
   "metadata": {},
   "outputs": [
    {
     "data": {
      "text/plain": [
       "C B                      int64\n",
       "BENEFICIARIO            object\n",
       "RFC                     object\n",
       "FACTURAS                object\n",
       "CONTRATO                object\n",
       "CONCEPTO                object\n",
       "TIPO                    object\n",
       "FDO-#OP                float64\n",
       "FECHA           datetime64[ns]\n",
       "IMPORTE                float64\n",
       "SHEET                   object\n",
       "dtype: object"
      ]
     },
     "execution_count": 21,
     "metadata": {},
     "output_type": "execute_result"
    }
   ],
   "source": [
    "compras_df.dtypes"
   ]
  },
  {
   "cell_type": "code",
   "execution_count": 19,
   "id": "44a92a06-c5aa-4a35-81cb-668cde97d9be",
   "metadata": {},
   "outputs": [],
   "source": [
    "compras_df['FECHA']=pd.to_datetime(compras_df['FECHA'])"
   ]
  },
  {
   "cell_type": "code",
   "execution_count": 23,
   "id": "86ee8e69-a7e3-4b98-98fa-cccd0a84697f",
   "metadata": {},
   "outputs": [],
   "source": [
    "compras_df['DIA']=compras_df['FECHA'].apply(lambda x: x.day)"
   ]
  },
  {
   "cell_type": "code",
   "execution_count": 27,
   "id": "60f7770b-1880-45b7-929b-3cfe00785063",
   "metadata": {},
   "outputs": [],
   "source": [
    "compras_df['MES']=compras_df['FECHA'].apply(lambda x: x.month)"
   ]
  },
  {
   "cell_type": "code",
   "execution_count": 31,
   "id": "b1315552-e76b-4a86-ab2a-c7dc4ed8a94b",
   "metadata": {},
   "outputs": [],
   "source": [
    "compras_df['ANIO']=compras_df['FECHA'].apply(lambda x: x.year)"
   ]
  },
  {
   "cell_type": "markdown",
   "id": "189f6313-2875-44ca-8871-d639ac5f47e3",
   "metadata": {},
   "source": [
    "## Proyectar una variable con otra"
   ]
  },
  {
   "cell_type": "code",
   "execution_count": 44,
   "id": "7d43f9a1-4084-4531-b674-7b3374899b7d",
   "metadata": {},
   "outputs": [],
   "source": [
    "beneficiario_sales=compras_df['BENEFICIARIO'].value_counts().to_dict()"
   ]
  },
  {
   "cell_type": "code",
   "execution_count": 46,
   "id": "786b712e-7c99-4d79-ba6b-e698ad05fe09",
   "metadata": {},
   "outputs": [
    {
     "data": {
      "text/plain": [
       "['CAMARA MEXICANA DE LA INDUSTRIA DE LA CONSTRUCCION',\n",
       " 'MUNICIPIO DE LA CIUDAD DE MONTERREY',\n",
       " 'EDITORA EL SOL, S.A. DE C.V.',\n",
       " 'MOTO SOLUCIONES MEXICO, S.A. DE C.V.',\n",
       " 'CAR ONE MONTERREY, S.A. DE C.V.']"
      ]
     },
     "execution_count": 46,
     "metadata": {},
     "output_type": "execute_result"
    }
   ],
   "source": [
    "list(beneficiario_sales.keys())[0:5]"
   ]
  },
  {
   "cell_type": "code",
   "execution_count": 48,
   "id": "97185a68-cd47-4e57-bedb-f4bec96d8550",
   "metadata": {},
   "outputs": [],
   "source": [
    "compras_df['BENEFICIARIO_SALES']=compras_df['BENEFICIARIO'].apply(lambda x: beneficiario_sales[x])"
   ]
  },
  {
   "cell_type": "code",
   "execution_count": 64,
   "id": "5221bc3e-4be0-48ed-8ecf-c8db25ac9856",
   "metadata": {},
   "outputs": [
    {
     "data": {
      "text/html": [
       "<div>\n",
       "<style scoped>\n",
       "    .dataframe tbody tr th:only-of-type {\n",
       "        vertical-align: middle;\n",
       "    }\n",
       "\n",
       "    .dataframe tbody tr th {\n",
       "        vertical-align: top;\n",
       "    }\n",
       "\n",
       "    .dataframe thead th {\n",
       "        text-align: right;\n",
       "    }\n",
       "</style>\n",
       "<table border=\"1\" class=\"dataframe\">\n",
       "  <thead>\n",
       "    <tr style=\"text-align: right;\">\n",
       "      <th></th>\n",
       "      <th>C B</th>\n",
       "      <th>BENEFICIARIO</th>\n",
       "      <th>RFC</th>\n",
       "      <th>FACTURAS</th>\n",
       "      <th>CONTRATO</th>\n",
       "      <th>CONCEPTO</th>\n",
       "      <th>TIPO</th>\n",
       "      <th>FDO-#OP</th>\n",
       "      <th>FECHA</th>\n",
       "      <th>IMPORTE</th>\n",
       "      <th>SHEET</th>\n",
       "      <th>DIA</th>\n",
       "      <th>MES</th>\n",
       "      <th>ANIO</th>\n",
       "      <th>BENEFICIARIO_SALES</th>\n",
       "      <th>IMPORTE_GASTO_PROMEDIO</th>\n",
       "    </tr>\n",
       "  </thead>\n",
       "  <tbody>\n",
       "    <tr>\n",
       "      <th>0</th>\n",
       "      <td>110036</td>\n",
       "      <td>SEMEX,S.A.DE C.V.</td>\n",
       "      <td>SEM680801193</td>\n",
       "      <td>48298-183011-4972</td>\n",
       "      <td>SDU-019-2022</td>\n",
       "      <td>ESTIMACION # 18 PARA EL SUMINISTRO Y APLICACIO...</td>\n",
       "      <td>TR</td>\n",
       "      <td>1029007.0</td>\n",
       "      <td>2023-12-19</td>\n",
       "      <td>3914510.69</td>\n",
       "      <td>GASTOS VARIOS</td>\n",
       "      <td>19</td>\n",
       "      <td>12</td>\n",
       "      <td>2023</td>\n",
       "      <td>7</td>\n",
       "      <td>1.041125e+06</td>\n",
       "    </tr>\n",
       "    <tr>\n",
       "      <th>1</th>\n",
       "      <td>111017</td>\n",
       "      <td>PRAXAIR MEXICO S. DE R.L. DE C.V.</td>\n",
       "      <td>PME960701GG0</td>\n",
       "      <td>FZ5592100-183011-5005</td>\n",
       "      <td>SFA-057-2022</td>\n",
       "      <td>SUMINISTRO DE OXIGENO, GASES MEDICINALES Y ACC...</td>\n",
       "      <td>TR</td>\n",
       "      <td>1029028.0</td>\n",
       "      <td>2023-12-19</td>\n",
       "      <td>12474.70</td>\n",
       "      <td>GASTOS VARIOS</td>\n",
       "      <td>19</td>\n",
       "      <td>12</td>\n",
       "      <td>2023</td>\n",
       "      <td>1</td>\n",
       "      <td>1.041125e+06</td>\n",
       "    </tr>\n",
       "    <tr>\n",
       "      <th>2</th>\n",
       "      <td>112917</td>\n",
       "      <td>TELEFONOS DE MEXICO,S.A.B DE C.V.</td>\n",
       "      <td>TME840315KT6</td>\n",
       "      <td>0V03217-011-183011-6490</td>\n",
       "      <td>NO APLICA</td>\n",
       "      <td>SERVICIO TELEFONICO DE LA DELEGACION IMPUESTO ...</td>\n",
       "      <td>TR</td>\n",
       "      <td>1028981.0</td>\n",
       "      <td>2023-12-15</td>\n",
       "      <td>1282.82</td>\n",
       "      <td>GASTOS VARIOS</td>\n",
       "      <td>15</td>\n",
       "      <td>12</td>\n",
       "      <td>2023</td>\n",
       "      <td>2</td>\n",
       "      <td>1.041125e+06</td>\n",
       "    </tr>\n",
       "    <tr>\n",
       "      <th>3</th>\n",
       "      <td>112917</td>\n",
       "      <td>TELEFONOS DE MEXICO,S.A.B DE C.V.</td>\n",
       "      <td>TME840315KT6</td>\n",
       "      <td>0F03598-11-183011-6491</td>\n",
       "      <td>NO APLICA</td>\n",
       "      <td>SERVICIO TELEFONICO DEL DIF. CANOAS Y SEGURIDA...</td>\n",
       "      <td>TR</td>\n",
       "      <td>1029062.0</td>\n",
       "      <td>2023-12-21</td>\n",
       "      <td>2723.97</td>\n",
       "      <td>GASTOS VARIOS</td>\n",
       "      <td>21</td>\n",
       "      <td>12</td>\n",
       "      <td>2023</td>\n",
       "      <td>2</td>\n",
       "      <td>1.041125e+06</td>\n",
       "    </tr>\n",
       "  </tbody>\n",
       "</table>\n",
       "</div>"
      ],
      "text/plain": [
       "      C B                       BENEFICIARIO           RFC  \\\n",
       "0  110036                  SEMEX,S.A.DE C.V.  SEM680801193   \n",
       "1  111017  PRAXAIR MEXICO S. DE R.L. DE C.V.  PME960701GG0   \n",
       "2  112917  TELEFONOS DE MEXICO,S.A.B DE C.V.  TME840315KT6   \n",
       "3  112917  TELEFONOS DE MEXICO,S.A.B DE C.V.  TME840315KT6   \n",
       "\n",
       "                  FACTURAS      CONTRATO  \\\n",
       "0        48298-183011-4972  SDU-019-2022   \n",
       "1    FZ5592100-183011-5005  SFA-057-2022   \n",
       "2  0V03217-011-183011-6490     NO APLICA   \n",
       "3   0F03598-11-183011-6491     NO APLICA   \n",
       "\n",
       "                                            CONCEPTO TIPO    FDO-#OP  \\\n",
       "0  ESTIMACION # 18 PARA EL SUMINISTRO Y APLICACIO...   TR  1029007.0   \n",
       "1  SUMINISTRO DE OXIGENO, GASES MEDICINALES Y ACC...   TR  1029028.0   \n",
       "2  SERVICIO TELEFONICO DE LA DELEGACION IMPUESTO ...   TR  1028981.0   \n",
       "3  SERVICIO TELEFONICO DEL DIF. CANOAS Y SEGURIDA...   TR  1029062.0   \n",
       "\n",
       "       FECHA     IMPORTE          SHEET  DIA  MES  ANIO  BENEFICIARIO_SALES  \\\n",
       "0 2023-12-19  3914510.69  GASTOS VARIOS   19   12  2023                   7   \n",
       "1 2023-12-19    12474.70  GASTOS VARIOS   19   12  2023                   1   \n",
       "2 2023-12-15     1282.82  GASTOS VARIOS   15   12  2023                   2   \n",
       "3 2023-12-21     2723.97  GASTOS VARIOS   21   12  2023                   2   \n",
       "\n",
       "   IMPORTE_GASTO_PROMEDIO  \n",
       "0            1.041125e+06  \n",
       "1            1.041125e+06  \n",
       "2            1.041125e+06  \n",
       "3            1.041125e+06  "
      ]
     },
     "execution_count": 64,
     "metadata": {},
     "output_type": "execute_result"
    }
   ],
   "source": [
    "compras_df.head(4)"
   ]
  },
  {
   "cell_type": "code",
   "execution_count": 56,
   "id": "8db43b78-b6bd-444a-8f77-7d54f70dad78",
   "metadata": {},
   "outputs": [],
   "source": [
    "sheet_mean_compras=compras_df.groupby('SHEET')['IMPORTE'].mean()"
   ]
  },
  {
   "cell_type": "code",
   "execution_count": 58,
   "id": "0171085d-0144-4c1a-ba87-c83f98f6b7c7",
   "metadata": {},
   "outputs": [
    {
     "data": {
      "text/plain": [
       "SHEET\n",
       "CONTRATISTAS     4.422806e+05\n",
       "GASTOS VARIOS    1.041125e+06\n",
       "PERSONALES       8.746622e+04\n",
       "SERVICIOS        5.464488e+05\n",
       "Name: IMPORTE, dtype: float64"
      ]
     },
     "execution_count": 58,
     "metadata": {},
     "output_type": "execute_result"
    }
   ],
   "source": [
    "sheet_mean_compras"
   ]
  },
  {
   "cell_type": "code",
   "execution_count": 60,
   "id": "12a7837c-dbd3-420f-9782-3ba49665717b",
   "metadata": {},
   "outputs": [
    {
     "data": {
      "text/plain": [
       "{'CONTRATISTAS': 442280.55925343814,\n",
       " 'GASTOS VARIOS': 1041124.8811964287,\n",
       " 'PERSONALES': 87466.21828,\n",
       " 'SERVICIOS': 546448.8149333333}"
      ]
     },
     "execution_count": 60,
     "metadata": {},
     "output_type": "execute_result"
    }
   ],
   "source": [
    "sheet_mean_compras.to_dict()"
   ]
  },
  {
   "cell_type": "code",
   "execution_count": 62,
   "id": "acfabfbf-14b1-4501-815a-8470acdf180b",
   "metadata": {},
   "outputs": [],
   "source": [
    "compras_df['IMPORTE_GASTO_PROMEDIO']=compras_df['SHEET'].apply(lambda x: sheet_mean_compras[x])"
   ]
  },
  {
   "cell_type": "code",
   "execution_count": 66,
   "id": "5bbaa70c-1a87-47dd-bd39-e30df96b8787",
   "metadata": {},
   "outputs": [],
   "source": [
    "compras_df.to_csv('data/compras_df_enriched.csv', index=None)"
   ]
  },
  {
   "cell_type": "code",
   "execution_count": null,
   "id": "8d197748-875b-4342-9ac6-d1bcfd67f26c",
   "metadata": {},
   "outputs": [],
   "source": []
  }
 ],
 "metadata": {
  "kernelspec": {
   "display_name": "Python 3 (ipykernel)",
   "language": "python",
   "name": "python3"
  },
  "language_info": {
   "codemirror_mode": {
    "name": "ipython",
    "version": 3
   },
   "file_extension": ".py",
   "mimetype": "text/x-python",
   "name": "python",
   "nbconvert_exporter": "python",
   "pygments_lexer": "ipython3",
   "version": "3.12.4"
  }
 },
 "nbformat": 4,
 "nbformat_minor": 5
}
