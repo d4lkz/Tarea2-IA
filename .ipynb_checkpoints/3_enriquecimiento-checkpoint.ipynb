{
 "cells": [
  {
   "cell_type": "code",
   "execution_count": 1,
   "id": "faa653a7-30a1-4ef3-87f0-17c407b02394",
   "metadata": {},
   "outputs": [],
   "source": [
    "%matplotlib inline\n",
    "import pandas as pd"
   ]
  },
  {
   "cell_type": "code",
   "execution_count": 2,
   "id": "c5c2e06f-370e-4ee2-8013-32c8ed4ba7fd",
   "metadata": {},
   "outputs": [],
   "source": [
    "compras_df = pd.read_csv('C:/Users/D4/Documents/GitHub/Tarea2-IA/TData/clean_compras.csv')"
   ]
  },
  {
   "cell_type": "code",
   "execution_count": 3,
   "id": "f60e729d-77d8-48d5-b7bb-67eb218f834f",
   "metadata": {},
   "outputs": [
    {
     "data": {
      "text/html": [
       "<div>\n",
       "<style scoped>\n",
       "    .dataframe tbody tr th:only-of-type {\n",
       "        vertical-align: middle;\n",
       "    }\n",
       "\n",
       "    .dataframe tbody tr th {\n",
       "        vertical-align: top;\n",
       "    }\n",
       "\n",
       "    .dataframe thead th {\n",
       "        text-align: right;\n",
       "    }\n",
       "</style>\n",
       "<table border=\"1\" class=\"dataframe\">\n",
       "  <thead>\n",
       "    <tr style=\"text-align: right;\">\n",
       "      <th></th>\n",
       "      <th>C B</th>\n",
       "      <th>BENEFICIARIO</th>\n",
       "      <th>RFC</th>\n",
       "      <th>FACTURAS</th>\n",
       "      <th>CONTRATO</th>\n",
       "      <th>CONCEPTO</th>\n",
       "      <th>TIPO</th>\n",
       "      <th>FDO - #OP</th>\n",
       "      <th>FECHA</th>\n",
       "      <th>IMPORTE</th>\n",
       "      <th>SHEET</th>\n",
       "    </tr>\n",
       "  </thead>\n",
       "  <tbody>\n",
       "    <tr>\n",
       "      <th>0</th>\n",
       "      <td>123803</td>\n",
       "      <td>COLEGIO DE INGENIEROS CIVILES DE NUEVO LEON AC</td>\n",
       "      <td>CIC710521SA1</td>\n",
       "      <td>P 1214-185004-4</td>\n",
       "      <td>SIS-172-2022</td>\n",
       "      <td>RP-2023 30% ANT. SRSIS-RP-06/22-IR 1)LEV. TOPO...</td>\n",
       "      <td>TR</td>\n",
       "      <td>1025275.0</td>\n",
       "      <td>2023-01-30 00:00:00</td>\n",
       "      <td>389093.21</td>\n",
       "      <td>OBRA PUBLICA Y GV FDOS. ESP</td>\n",
       "    </tr>\n",
       "    <tr>\n",
       "      <th>1</th>\n",
       "      <td>206273</td>\n",
       "      <td>TESORERIA DE LA FEDERACION</td>\n",
       "      <td>SAT970701NN3</td>\n",
       "      <td>124000760-183001-8</td>\n",
       "      <td>NO APLICA</td>\n",
       "      <td>PAGO DE DERECHOS A FAVOR DE LA SECRETARIA DE I...</td>\n",
       "      <td>TR</td>\n",
       "      <td>1025278.0</td>\n",
       "      <td>2023-01-30 00:00:00</td>\n",
       "      <td>6564.00</td>\n",
       "      <td>OBRA PUBLICA Y GV FDOS. ESP</td>\n",
       "    </tr>\n",
       "    <tr>\n",
       "      <th>2</th>\n",
       "      <td>206273</td>\n",
       "      <td>TESORERIA DE LA FEDERACION</td>\n",
       "      <td>SAT970701NN3</td>\n",
       "      <td>124000771-183001-7</td>\n",
       "      <td>NO APLICA</td>\n",
       "      <td>PAGO DE DERECHOS A FAVOR DE LA SRIA. DE INFRAE...</td>\n",
       "      <td>TR</td>\n",
       "      <td>1025279.0</td>\n",
       "      <td>2023-01-30 00:00:00</td>\n",
       "      <td>6418.00</td>\n",
       "      <td>OBRA PUBLICA Y GV FDOS. ESP</td>\n",
       "    </tr>\n",
       "    <tr>\n",
       "      <th>3</th>\n",
       "      <td>206273</td>\n",
       "      <td>TESORERIA DE LA FEDERACION</td>\n",
       "      <td>SAT970701NN3</td>\n",
       "      <td>183006-1</td>\n",
       "      <td>NO APLICA</td>\n",
       "      <td>REINTEGRO DEL IMPORTE NO COMPROMETIDO AL 31 DE...</td>\n",
       "      <td>TR</td>\n",
       "      <td>332000144.0</td>\n",
       "      <td>2023-01-30 00:00:00</td>\n",
       "      <td>110220.65</td>\n",
       "      <td>OBRA PUBLICA Y GV FDOS. ESP</td>\n",
       "    </tr>\n",
       "  </tbody>\n",
       "</table>\n",
       "</div>"
      ],
      "text/plain": [
       "      C B                                    BENEFICIARIO           RFC  \\\n",
       "0  123803  COLEGIO DE INGENIEROS CIVILES DE NUEVO LEON AC  CIC710521SA1   \n",
       "1  206273                      TESORERIA DE LA FEDERACION  SAT970701NN3   \n",
       "2  206273                      TESORERIA DE LA FEDERACION  SAT970701NN3   \n",
       "3  206273                      TESORERIA DE LA FEDERACION  SAT970701NN3   \n",
       "\n",
       "             FACTURAS      CONTRATO  \\\n",
       "0     P 1214-185004-4  SIS-172-2022   \n",
       "1  124000760-183001-8     NO APLICA   \n",
       "2  124000771-183001-7     NO APLICA   \n",
       "3            183006-1     NO APLICA   \n",
       "\n",
       "                                            CONCEPTO TIPO    FDO - #OP  \\\n",
       "0  RP-2023 30% ANT. SRSIS-RP-06/22-IR 1)LEV. TOPO...   TR    1025275.0   \n",
       "1  PAGO DE DERECHOS A FAVOR DE LA SECRETARIA DE I...   TR    1025278.0   \n",
       "2  PAGO DE DERECHOS A FAVOR DE LA SRIA. DE INFRAE...   TR    1025279.0   \n",
       "3  REINTEGRO DEL IMPORTE NO COMPROMETIDO AL 31 DE...   TR  332000144.0   \n",
       "\n",
       "                 FECHA    IMPORTE                        SHEET  \n",
       "0  2023-01-30 00:00:00  389093.21  OBRA PUBLICA Y GV FDOS. ESP  \n",
       "1  2023-01-30 00:00:00    6564.00  OBRA PUBLICA Y GV FDOS. ESP  \n",
       "2  2023-01-30 00:00:00    6418.00  OBRA PUBLICA Y GV FDOS. ESP  \n",
       "3  2023-01-30 00:00:00  110220.65  OBRA PUBLICA Y GV FDOS. ESP  "
      ]
     },
     "execution_count": 3,
     "metadata": {},
     "output_type": "execute_result"
    }
   ],
   "source": [
    "compras_df.head(4)"
   ]
  },
  {
   "cell_type": "code",
   "execution_count": 4,
   "id": "de23d566-d395-4ce0-8787-1b03b63ae4db",
   "metadata": {},
   "outputs": [
    {
     "data": {
      "text/plain": [
       "C B               int64\n",
       "BENEFICIARIO     object\n",
       "RFC              object\n",
       "FACTURAS         object\n",
       "CONTRATO         object\n",
       "CONCEPTO         object\n",
       "TIPO             object\n",
       "FDO - #OP       float64\n",
       "FECHA            object\n",
       "IMPORTE         float64\n",
       "SHEET            object\n",
       "dtype: object"
      ]
     },
     "execution_count": 4,
     "metadata": {},
     "output_type": "execute_result"
    }
   ],
   "source": [
    "compras_df.dtypes"
   ]
  },
  {
   "cell_type": "code",
   "execution_count": 5,
   "id": "6d540108-4eb9-4ab2-904b-0e3109d32102",
   "metadata": {},
   "outputs": [],
   "source": [
    "compras_df['SHEET'] = compras_df['SHEET'].replace('GTS VARIOS', 'GTOS VARIOS')\n",
    "compras_df['SHEET'] = compras_df['SHEET'].replace('COMUNICACION', 'COMUNIC')\n",
    "compras_df['SHEET'] = compras_df['SHEET'].replace('CUMUNICACION', 'COMUNIC')\n",
    "compras_df['SHEET'] = compras_df['SHEET'].replace('SER PROF', 'SERV PROF')\n",
    "compras_df['SHEET'] = compras_df['SHEET'].replace('GTS REPRESENT', 'GTS REPRE')"
   ]
  },
  {
   "cell_type": "code",
   "execution_count": 6,
   "id": "44a92a06-c5aa-4a35-81cb-668cde97d9be",
   "metadata": {},
   "outputs": [],
   "source": [
    "compras_df['FECHA'] = pd.to_datetime(compras_df['FECHA'], errors='coerce')"
   ]
  },
  {
   "cell_type": "code",
   "execution_count": 7,
   "id": "86ee8e69-a7e3-4b98-98fa-cccd0a84697f",
   "metadata": {},
   "outputs": [],
   "source": [
    "compras_df['DIA']=compras_df['FECHA'].apply(lambda x: x.day)"
   ]
  },
  {
   "cell_type": "code",
   "execution_count": 8,
   "id": "60f7770b-1880-45b7-929b-3cfe00785063",
   "metadata": {},
   "outputs": [],
   "source": [
    "compras_df['MES']=compras_df['FECHA'].apply(lambda x: x.month)"
   ]
  },
  {
   "cell_type": "code",
   "execution_count": 9,
   "id": "b1315552-e76b-4a86-ab2a-c7dc4ed8a94b",
   "metadata": {},
   "outputs": [],
   "source": [
    "compras_df['ANIO']=compras_df['FECHA'].apply(lambda x: x.year)"
   ]
  },
  {
   "cell_type": "markdown",
   "id": "189f6313-2875-44ca-8871-d639ac5f47e3",
   "metadata": {},
   "source": [
    "## Proyectar una variable con otra"
   ]
  },
  {
   "cell_type": "code",
   "execution_count": 10,
   "id": "7d43f9a1-4084-4531-b674-7b3374899b7d",
   "metadata": {},
   "outputs": [],
   "source": [
    "beneficiario_sales=compras_df['BENEFICIARIO'].value_counts().to_dict()"
   ]
  },
  {
   "cell_type": "code",
   "execution_count": 11,
   "id": "786b712e-7c99-4d79-ba6b-e698ad05fe09",
   "metadata": {},
   "outputs": [
    {
     "data": {
      "text/plain": [
       "['CAMARA MEXICANA DE LA INDUSTRIA DE LA CONSTRUCCION',\n",
       " 'CAR ONE MONTERREY, S.A. DE C.V.',\n",
       " 'INTERASFALTOS, S.A. DE C.V.',\n",
       " 'MOTO SOLUCIONES MEXICO, S.A. DE C.V.',\n",
       " 'MUNICIPIO DE LA CIUDAD DE MONTERREY']"
      ]
     },
     "execution_count": 11,
     "metadata": {},
     "output_type": "execute_result"
    }
   ],
   "source": [
    "list(beneficiario_sales.keys())[0:5]"
   ]
  },
  {
   "cell_type": "code",
   "execution_count": 12,
   "id": "97185a68-cd47-4e57-bedb-f4bec96d8550",
   "metadata": {},
   "outputs": [],
   "source": [
    "compras_df['BENEFICIARIO_SALES']=compras_df['BENEFICIARIO'].apply(lambda x: beneficiario_sales[x])"
   ]
  },
  {
   "cell_type": "code",
   "execution_count": 13,
   "id": "5221bc3e-4be0-48ed-8ecf-c8db25ac9856",
   "metadata": {},
   "outputs": [
    {
     "data": {
      "text/html": [
       "<div>\n",
       "<style scoped>\n",
       "    .dataframe tbody tr th:only-of-type {\n",
       "        vertical-align: middle;\n",
       "    }\n",
       "\n",
       "    .dataframe tbody tr th {\n",
       "        vertical-align: top;\n",
       "    }\n",
       "\n",
       "    .dataframe thead th {\n",
       "        text-align: right;\n",
       "    }\n",
       "</style>\n",
       "<table border=\"1\" class=\"dataframe\">\n",
       "  <thead>\n",
       "    <tr style=\"text-align: right;\">\n",
       "      <th></th>\n",
       "      <th>C B</th>\n",
       "      <th>BENEFICIARIO</th>\n",
       "      <th>RFC</th>\n",
       "      <th>FACTURAS</th>\n",
       "      <th>CONTRATO</th>\n",
       "      <th>CONCEPTO</th>\n",
       "      <th>TIPO</th>\n",
       "      <th>FDO - #OP</th>\n",
       "      <th>FECHA</th>\n",
       "      <th>IMPORTE</th>\n",
       "      <th>SHEET</th>\n",
       "      <th>DIA</th>\n",
       "      <th>MES</th>\n",
       "      <th>ANIO</th>\n",
       "      <th>BENEFICIARIO_SALES</th>\n",
       "    </tr>\n",
       "  </thead>\n",
       "  <tbody>\n",
       "    <tr>\n",
       "      <th>0</th>\n",
       "      <td>123803</td>\n",
       "      <td>COLEGIO DE INGENIEROS CIVILES DE NUEVO LEON AC</td>\n",
       "      <td>CIC710521SA1</td>\n",
       "      <td>P 1214-185004-4</td>\n",
       "      <td>SIS-172-2022</td>\n",
       "      <td>RP-2023 30% ANT. SRSIS-RP-06/22-IR 1)LEV. TOPO...</td>\n",
       "      <td>TR</td>\n",
       "      <td>1025275.0</td>\n",
       "      <td>2023-01-30</td>\n",
       "      <td>389093.21</td>\n",
       "      <td>OBRA PUBLICA Y GV FDOS. ESP</td>\n",
       "      <td>30.0</td>\n",
       "      <td>1.0</td>\n",
       "      <td>2023.0</td>\n",
       "      <td>3</td>\n",
       "    </tr>\n",
       "    <tr>\n",
       "      <th>1</th>\n",
       "      <td>206273</td>\n",
       "      <td>TESORERIA DE LA FEDERACION</td>\n",
       "      <td>SAT970701NN3</td>\n",
       "      <td>124000760-183001-8</td>\n",
       "      <td>NO APLICA</td>\n",
       "      <td>PAGO DE DERECHOS A FAVOR DE LA SECRETARIA DE I...</td>\n",
       "      <td>TR</td>\n",
       "      <td>1025278.0</td>\n",
       "      <td>2023-01-30</td>\n",
       "      <td>6564.00</td>\n",
       "      <td>OBRA PUBLICA Y GV FDOS. ESP</td>\n",
       "      <td>30.0</td>\n",
       "      <td>1.0</td>\n",
       "      <td>2023.0</td>\n",
       "      <td>16</td>\n",
       "    </tr>\n",
       "    <tr>\n",
       "      <th>2</th>\n",
       "      <td>206273</td>\n",
       "      <td>TESORERIA DE LA FEDERACION</td>\n",
       "      <td>SAT970701NN3</td>\n",
       "      <td>124000771-183001-7</td>\n",
       "      <td>NO APLICA</td>\n",
       "      <td>PAGO DE DERECHOS A FAVOR DE LA SRIA. DE INFRAE...</td>\n",
       "      <td>TR</td>\n",
       "      <td>1025279.0</td>\n",
       "      <td>2023-01-30</td>\n",
       "      <td>6418.00</td>\n",
       "      <td>OBRA PUBLICA Y GV FDOS. ESP</td>\n",
       "      <td>30.0</td>\n",
       "      <td>1.0</td>\n",
       "      <td>2023.0</td>\n",
       "      <td>16</td>\n",
       "    </tr>\n",
       "    <tr>\n",
       "      <th>3</th>\n",
       "      <td>206273</td>\n",
       "      <td>TESORERIA DE LA FEDERACION</td>\n",
       "      <td>SAT970701NN3</td>\n",
       "      <td>183006-1</td>\n",
       "      <td>NO APLICA</td>\n",
       "      <td>REINTEGRO DEL IMPORTE NO COMPROMETIDO AL 31 DE...</td>\n",
       "      <td>TR</td>\n",
       "      <td>332000144.0</td>\n",
       "      <td>2023-01-30</td>\n",
       "      <td>110220.65</td>\n",
       "      <td>OBRA PUBLICA Y GV FDOS. ESP</td>\n",
       "      <td>30.0</td>\n",
       "      <td>1.0</td>\n",
       "      <td>2023.0</td>\n",
       "      <td>16</td>\n",
       "    </tr>\n",
       "  </tbody>\n",
       "</table>\n",
       "</div>"
      ],
      "text/plain": [
       "      C B                                    BENEFICIARIO           RFC  \\\n",
       "0  123803  COLEGIO DE INGENIEROS CIVILES DE NUEVO LEON AC  CIC710521SA1   \n",
       "1  206273                      TESORERIA DE LA FEDERACION  SAT970701NN3   \n",
       "2  206273                      TESORERIA DE LA FEDERACION  SAT970701NN3   \n",
       "3  206273                      TESORERIA DE LA FEDERACION  SAT970701NN3   \n",
       "\n",
       "             FACTURAS      CONTRATO  \\\n",
       "0     P 1214-185004-4  SIS-172-2022   \n",
       "1  124000760-183001-8     NO APLICA   \n",
       "2  124000771-183001-7     NO APLICA   \n",
       "3            183006-1     NO APLICA   \n",
       "\n",
       "                                            CONCEPTO TIPO    FDO - #OP  \\\n",
       "0  RP-2023 30% ANT. SRSIS-RP-06/22-IR 1)LEV. TOPO...   TR    1025275.0   \n",
       "1  PAGO DE DERECHOS A FAVOR DE LA SECRETARIA DE I...   TR    1025278.0   \n",
       "2  PAGO DE DERECHOS A FAVOR DE LA SRIA. DE INFRAE...   TR    1025279.0   \n",
       "3  REINTEGRO DEL IMPORTE NO COMPROMETIDO AL 31 DE...   TR  332000144.0   \n",
       "\n",
       "       FECHA    IMPORTE                        SHEET   DIA  MES    ANIO  \\\n",
       "0 2023-01-30  389093.21  OBRA PUBLICA Y GV FDOS. ESP  30.0  1.0  2023.0   \n",
       "1 2023-01-30    6564.00  OBRA PUBLICA Y GV FDOS. ESP  30.0  1.0  2023.0   \n",
       "2 2023-01-30    6418.00  OBRA PUBLICA Y GV FDOS. ESP  30.0  1.0  2023.0   \n",
       "3 2023-01-30  110220.65  OBRA PUBLICA Y GV FDOS. ESP  30.0  1.0  2023.0   \n",
       "\n",
       "   BENEFICIARIO_SALES  \n",
       "0                   3  \n",
       "1                  16  \n",
       "2                  16  \n",
       "3                  16  "
      ]
     },
     "execution_count": 13,
     "metadata": {},
     "output_type": "execute_result"
    }
   ],
   "source": [
    "compras_df.head(4)"
   ]
  },
  {
   "cell_type": "code",
   "execution_count": 14,
   "id": "8db43b78-b6bd-444a-8f77-7d54f70dad78",
   "metadata": {},
   "outputs": [],
   "source": [
    "sheet_mean_compras=compras_df.groupby('SHEET')['IMPORTE'].mean()"
   ]
  },
  {
   "cell_type": "code",
   "execution_count": 15,
   "id": "0171085d-0144-4c1a-ba87-c83f98f6b7c7",
   "metadata": {},
   "outputs": [
    {
     "data": {
      "text/plain": [
       "SHEET\n",
       "COMUNIC                         80067.088740\n",
       "GTOS VARIOS                    785180.299484\n",
       "GTS REPRE                       19681.846324\n",
       "OBRA PUBLICA Y GV FDOS. ESP    433899.519719\n",
       "SERV PERS                       43698.905812\n",
       "SERV PROF                      514351.189814\n",
       "Name: IMPORTE, dtype: float64"
      ]
     },
     "execution_count": 15,
     "metadata": {},
     "output_type": "execute_result"
    }
   ],
   "source": [
    "sheet_mean_compras"
   ]
  },
  {
   "cell_type": "code",
   "execution_count": 16,
   "id": "12a7837c-dbd3-420f-9782-3ba49665717b",
   "metadata": {},
   "outputs": [
    {
     "data": {
      "text/plain": [
       "{'COMUNIC': 80067.0887400319,\n",
       " 'GTOS VARIOS': 785180.2994837669,\n",
       " 'GTS REPRE': 19681.84632352941,\n",
       " 'OBRA PUBLICA Y GV FDOS. ESP': 433899.51971884916,\n",
       " 'SERV PERS': 43698.9058118701,\n",
       " 'SERV PROF': 514351.1898136646}"
      ]
     },
     "execution_count": 16,
     "metadata": {},
     "output_type": "execute_result"
    }
   ],
   "source": [
    "sheet_mean_compras.to_dict()"
   ]
  },
  {
   "cell_type": "code",
   "execution_count": 17,
   "id": "acfabfbf-14b1-4501-815a-8470acdf180b",
   "metadata": {},
   "outputs": [],
   "source": [
    "compras_df['IMPORTE_GASTO_PROMEDIO']=compras_df['SHEET'].apply(lambda x: sheet_mean_compras[x])"
   ]
  },
  {
   "cell_type": "code",
   "execution_count": 19,
   "id": "5bbaa70c-1a87-47dd-bd39-e30df96b8787",
   "metadata": {},
   "outputs": [],
   "source": [
    "compras_df.to_csv('tdata/compras_df_enriched.csv', index=None)"
   ]
  },
  {
   "cell_type": "code",
   "execution_count": null,
   "id": "8d197748-875b-4342-9ac6-d1bcfd67f26c",
   "metadata": {},
   "outputs": [],
   "source": []
  }
 ],
 "metadata": {
  "kernelspec": {
   "display_name": "Python 3 (ipykernel)",
   "language": "python",
   "name": "python3"
  },
  "language_info": {
   "codemirror_mode": {
    "name": "ipython",
    "version": 3
   },
   "file_extension": ".py",
   "mimetype": "text/x-python",
   "name": "python",
   "nbconvert_exporter": "python",
   "pygments_lexer": "ipython3",
   "version": "3.11.7"
  }
 },
 "nbformat": 4,
 "nbformat_minor": 5
}
